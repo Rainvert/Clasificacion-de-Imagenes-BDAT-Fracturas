{
 "cells": [
  {
   "cell_type": "code",
   "execution_count": 1,
   "metadata": {},
   "outputs": [],
   "source": [
    "# Se importa función para leer directorios\n",
    "from os import listdir\n",
    "# Se importa cv2 para poder trabajar las imágenes \n",
    "import cv2\n",
    "# Se importa Pyplot para mostrar las imágenes en pantalla\n",
    "import matplotlib.pyplot as plt\n",
    "# Se importa numpy para transformar la imagen a este tipo de arreglo\n",
    "import numpy as np"
   ]
  },
  {
   "cell_type": "code",
   "execution_count": 2,
   "metadata": {},
   "outputs": [],
   "source": [
    "# Se importa para crear directorios\n",
    "import os\n",
    "\n",
    "# Función para la creación automatica de directorios donde guardar las imágenes creadas\n",
    "def createDir(pathbase,pathdestiny):\n",
    "    names = listdir(pathbase)\n",
    "    for name in names:\n",
    "        os.makedirs(pathdestiny+name)\n",
    "\n",
    "# Ejecutar cuando el directorio no existe \n",
    "# createDir(\"images_for_SVM/dir1/\",\"images_for_SVM/dirTraining/\")"
   ]
  },
  {
   "cell_type": "code",
   "execution_count": 3,
   "metadata": {},
   "outputs": [],
   "source": [
    "# Función encargada de mezclar 2 máscaras\n",
    "def mixImg1in2(imgMask,img2Mask):\n",
    "    rows,cols,channels = img2Mask.shape\n",
    "    roi = imgMask[0:rows, 0:cols ]\n",
    "\n",
    "    # Se crea una máscara del elemento que se desea agregar y una invertida para borrar el fondo\n",
    "    img2gray = cv2.cvtColor(img2Mask,cv2.COLOR_BGR2GRAY)\n",
    "    ret, mask = cv2.threshold(img2gray, 10, 255, cv2.THRESH_BINARY)\n",
    "    mask_inv = cv2.bitwise_not(mask)\n",
    "\n",
    "    # Se oscurece el área donde se agregará el elemento\n",
    "    imgMask = cv2.bitwise_and(roi,roi,mask = mask_inv)\n",
    "\n",
    "    # Se toma el área de interes que se desea agregar\n",
    "    img2Mask = cv2.bitwise_and(img2Mask,img2Mask,mask = mask)\n",
    "\n",
    "    # Se superpone el elemento de interés en la zona oscurecida de la imagen original creando una nueva imagen\n",
    "    dst = cv2.add(imgMask,img2Mask)\n",
    "    \n",
    "    return dst"
   ]
  },
  {
   "cell_type": "code",
   "execution_count": 4,
   "metadata": {},
   "outputs": [],
   "source": [
    "# Función encargada de obtener una máscara de la imagen\n",
    "def maskImg(img):\n",
    "    # Rango de colores considerado\n",
    "    color_claro = (64, 4, 0)\n",
    "    color_oscuro = (255, 255, 45)\n",
    "    # Rango de colores considerado\n",
    "    \n",
    "    # Se obtiene la máscara de un elemento\n",
    "    mask = cv2.inRange(img, color_claro, color_oscuro)\n",
    "    result = cv2.bitwise_and(img, img, mask=mask)\n",
    "    return result"
   ]
  },
  {
   "cell_type": "code",
   "execution_count": 5,
   "metadata": {},
   "outputs": [],
   "source": [
    "# Función encargada de cargar las imágenes y obtener sus features\n",
    "def cargarFotos(path,path2,pathSave):\n",
    "    casos = listdir(path)\n",
    "    casos2 = listdir(path2)\n",
    "    contadorCaso = 0\n",
    "    for caso,caso2 in zip(casos,casos2):\n",
    "        nombreImgs = listdir(path+caso+\"/\")\n",
    "        nombreImgs2 = listdir(path2+caso2+\"/\")\n",
    "        contador = 1\n",
    "        for nombre,nombre2 in zip(nombreImgs,nombreImgs2):\n",
    "            if(nombre != \"Thumbs.db\" and nombre2 != \"Thumbs.db\"):\n",
    "                # Se obtiene la sección de la imagen que se necesita\n",
    "                img = cv2.imread(path+caso+\"/\"+nombre)\n",
    "                img = cv2.cvtColor(np.array(img), cv2.COLOR_BGR2RGB)\n",
    "                img = img[46:585,111:793].copy()\n",
    "                img = cv2.resize(img, (100, 75))\n",
    "                #img = maskImg(img)\n",
    "\n",
    "                # Se obtiene la sección de la imagen que se necesita y se aplica una máscara para mezclarla con la anterior\n",
    "                img2 = cv2.imread(path2+caso2+\"/\"+nombre2)\n",
    "                img2 = cv2.cvtColor(np.array(img2), cv2.COLOR_BGR2RGB)\n",
    "                img2 = img2[46:585,111:793].copy() \n",
    "                img2 = cv2.resize(img2, (100, 75))\n",
    "                img2 = maskImg(img2)\n",
    "\n",
    "                # Se mezclan ambas imágenes, en este caso, 2 sobre 1 \n",
    "                result = mixImg1in2(img,img2)\n",
    "                result = maskImg(result)\n",
    "\n",
    "                # Se guarda la imagen\n",
    "                cv2.imwrite(pathSave+caso+\"/\"+str(contador)+\"_mixed.png\", cv2.cvtColor(np.array(result), cv2.COLOR_BGR2RGB))\n",
    "                if(contador >=20):\n",
    "                    break   \n",
    "                contador = contador + 1 \n",
    "        contadorCaso = contadorCaso +1\n",
    "        if(contadorCaso%10 == 0):\n",
    "            print(\"Cargadas fotografías hasta caso: \"+caso)"
   ]
  },
  {
   "cell_type": "code",
   "execution_count": 6,
   "metadata": {},
   "outputs": [
    {
     "name": "stdout",
     "output_type": "stream",
     "text": [
      "Cargadas fotografías hasta caso: 010\n",
      "Cargadas fotografías hasta caso: 020\n",
      "Cargadas fotografías hasta caso: 030\n",
      "Cargadas fotografías hasta caso: 040\n",
      "Cargadas fotografías hasta caso: 051\n",
      "Cargadas fotografías hasta caso: 061\n",
      "Cargadas fotografías hasta caso: 071\n",
      "Cargadas fotografías hasta caso: 085\n",
      "Cargadas fotografías hasta caso: 095\n",
      "Cargadas fotografías hasta caso: 105\n",
      "Cargadas fotografías hasta caso: 115\n",
      "Cargadas fotografías hasta caso: 125\n",
      "Cargadas fotografías hasta caso: 135\n",
      "Cargadas fotografías hasta caso: 145\n",
      "Cargadas fotografías hasta caso: 155\n",
      "Cargadas fotografías hasta caso: 165\n",
      "Cargadas fotografías hasta caso: 175\n",
      "Cargadas fotografías hasta caso: 185\n",
      "Cargadas fotografías hasta caso: 195\n",
      "Cargadas fotografías hasta caso: 205\n",
      "Cargadas fotografías hasta caso: 215\n",
      "Cargadas fotografías hasta caso: 226\n",
      "Cargadas fotografías hasta caso: 236\n",
      "Cargadas fotografías hasta caso: 246\n",
      "Cargadas fotografías hasta caso: 256\n",
      "Cargadas fotografías hasta caso: 266\n",
      "Cargadas fotografías hasta caso: 276\n",
      "Cargadas fotografías hasta caso: 286\n",
      "Cargadas fotografías hasta caso: 296\n"
     ]
    }
   ],
   "source": [
    "# Se invoca función con los directorios de la dir1, dir2 y donde se guardarán las imágenes preprocesadas\n",
    "cargarFotos(\"images_for_SVM/dir1/\",\"images_for_SVM/dir2/\",\"images_for_SVM/dirTraining/\")"
   ]
  },
  {
   "cell_type": "code",
   "execution_count": null,
   "metadata": {},
   "outputs": [],
   "source": []
  },
  {
   "cell_type": "code",
   "execution_count": null,
   "metadata": {},
   "outputs": [],
   "source": []
  }
 ],
 "metadata": {
  "kernelspec": {
   "display_name": "Python 3",
   "language": "python",
   "name": "python3"
  },
  "language_info": {
   "codemirror_mode": {
    "name": "ipython",
    "version": 3
   },
   "file_extension": ".py",
   "mimetype": "text/x-python",
   "name": "python",
   "nbconvert_exporter": "python",
   "pygments_lexer": "ipython3",
   "version": "3.7.1"
  }
 },
 "nbformat": 4,
 "nbformat_minor": 2
}
